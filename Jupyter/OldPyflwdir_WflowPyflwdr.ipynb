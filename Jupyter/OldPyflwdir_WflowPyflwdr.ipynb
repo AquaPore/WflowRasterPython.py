{
 "cells": [
  {
   "cell_type": "markdown",
   "metadata": {},
   "source": [
    "# DERIVING SPATIAL MAPS WITH PYFLWDR\n",
    "## Tools with GDAL"
   ]
  },
  {
   "cell_type": "markdown",
   "metadata": {},
   "source": [
    "### TOOL: PROJWIN extend of window"
   ]
  },
  {
   "cell_type": "code",
   "execution_count": 1,
   "metadata": {},
   "outputs": [],
   "source": [
    "\"\"\" [-projwin <ulx> <uly> <lrx> <lry>]\n",
    "\t\tXmin Ymin Xmax Ymax\"\"\"\n",
    "\n",
    "def PROJWINDOW(Coord_UperLeft, Coord_LowerRight):\n",
    "\tFlag_SouthHemisphere = True\n",
    "\t\n",
    "\tXmin = min(Coord_UperLeft[1], Coord_LowerRight[1])\n",
    "\tYmin = min(Coord_UperLeft[0], Coord_LowerRight[0])\n",
    "\tXmax = max(Coord_UperLeft[1], Coord_LowerRight[1])\n",
    "\tYmax = max(Coord_UperLeft[0], Coord_LowerRight[0])\n",
    "\n",
    "\tif Flag_SouthHemisphere:\n",
    "\t\tProjwindow = str(Xmin) + ' ' + str(Ymax) + ' ' + str(Xmax) + ' ' + str(Ymin)\n",
    "\telse:\n",
    "\t\tProjwindow = str(Xmin) + ' ' + str(Ymin) + ' ' + str(Xmax) + ' ' + str(Ymax)\n",
    "\n",
    "\tprint(Projwindow)\n",
    "\treturn Projwindow\n"
   ]
  },
  {
   "cell_type": "markdown",
   "metadata": {},
   "source": [
    "### TOOLS: Converting Vector to raster *.tiff*\n"
   ]
  },
  {
   "cell_type": "code",
   "execution_count": 2,
   "metadata": {},
   "outputs": [],
   "source": [
    "import subprocess as subprocess\n",
    "import os as os\n",
    "\n",
    "# -ot {Byte/Int8/Int16/UInt16/UInt32/Int32/UInt64/Int64/Float32/Float64/ CInt16/CInt32/CFloat32/CFloat64}]\n",
    "\n",
    "def VECTOR_2_TIFF(Name_Input, Path_Input, Name_Output, Path_Output, Coord_DEM_UL, Coord_DEM_LR, Cell_Size, Attribute_name, Projection, Type, Option_Crop, NoDataValue):\n",
    "\n",
    "\tprint ('\\n Starting converting vector to raster: ' + Name_Output)\n",
    "\n",
    "\tos.chdir(Path_Output)\n",
    "\tName_Input_NoPath = os.path.splitext(Name_Input)[0]\n",
    "\n",
    "\t# TRANSFORMING VECTOR to RASTER-----------------------------------------------------------------------------------------------------\n",
    "\tif Option_Crop:\n",
    "\t\tProjwin = PROJWINDOW(Coord_DEM_UL, Coord_DEM_LR)\n",
    "\n",
    "\t\t# DosCommand = 'gdal_rasterize ' + ' -init 0 ' + ' -l ' + Name_Input_NoPath + ' -a ' + Attribute_name + ' -tr ' + str(Cell_Size) + ' ' + str(Cell_Size) + ' -a_srs ' + Projection  + ' -te ' + Projwin + ' -a_nodata '+ str(NoDataValue) + ' -ot ' + Type + ' -of GTiff ' + Path_Input + '/' + Name_Input + ' ' + Path_Output + '/' + Name_Output\n",
    "\n",
    "\t\tDosCommand = 'gdal_rasterize ' + ' -a_srs ' + Projection + ' -init 0 ' + ' -l ' + Name_Input_NoPath + ' -a ' + Attribute_name + ' -tr ' + str(Cell_Size) + ' ' + str(Cell_Size)  + ' -te ' + Projwin + ' -a_nodata '+ str(NoDataValue) + ' -ot ' + Type + ' -of GTiff ' + Path_Input + '/' + Name_Input + ' ' + Path_Output + '/' + Name_Output\n",
    "\t\n",
    "\telse:\n",
    "\t\t# DosCommand = 'gdal_rasterize ' + ' -l ' + Name_Input_NoPath + ' -a ' + Attribute_name + ' -tr ' + str(Cell_Size) + ' ' + str(Cell_Size) + ' -a_srs ' + Projection  + ' -a_nodata ' + str(NoDataValue)  + ' -ot ' + Type + ' -of GTiff ' + Path_Input + '/' + Name_Input + ' ' + Path_Output + '/' + Name_Output\n",
    "\n",
    "\t\tDosCommand = 'gdal_rasterize ' + ' -a_srs ' + Projection + ' -l ' + Name_Input_NoPath + ' -a ' + Attribute_name + ' -tr ' + str(Cell_Size) + ' ' + str(Cell_Size)  + ' -a_nodata ' + str(NoDataValue)  + ' -ot ' + Type + ' -of GTiff ' + Path_Input + '/' + Name_Input + ' ' + Path_Output + '/' + Name_Output\n",
    "\n",
    "\tprint(\" \")\n",
    "\tprint(DosCommand)\n",
    "\tprint(\" \")\n",
    "\n",
    "\tsubprocess.check_output(DosCommand).decode()\n",
    "\n",
    "\tprint ('Sucessfull converting vector to raster: ' + Name_Output)\n",
    "\tprint(\" \")\n"
   ]
  },
  {
   "cell_type": "markdown",
   "metadata": {},
   "source": [
    "### TOOLS: resampling method with new coordinate and raster size"
   ]
  },
  {
   "cell_type": "code",
   "execution_count": 3,
   "metadata": {},
   "outputs": [],
   "source": [
    "\n",
    "\"\"\" -r resampling_method:\n",
    "\tResampling method to use. Available methods are:\n",
    "\tnear: nearest neighbour resampling (default, fastest algorithm, worst interpolation quality).\n",
    "\tbilinear: bilinear resampling.\n",
    "\tcubic: cubic resampling.\n",
    "\tcubicspline:cubic spline resampling.\n",
    "\tlanczos: Lanczos windowed sinc resampling.\n",
    "\taverage: average resampling, computes the average of all non-NODATA contributing pixels. (GDAL >= 1.10.0)\n",
    "\tmode: mode resampling, selects the value which appears most often of all the sampled points. (GDAL >= 1.10.0)\n",
    "\tmax: maximum resampling, selects the maximum value from all non-NODATA contributing pixels. (GDAL >= 2.0.0)\n",
    "\tmin: minimum resampling, selects the minimum value from all non-NODATA contributing pixels. (GDAL >= 2.0.0)\n",
    "\tmed: median resampling, selects the median value of all non-NODATA contributing pixels. (GDAL >= 2.0.0)\n",
    "\tq1: first quartile resampling, selects the first quartile value of all non-NODATA contributing pixels. (GDAL >= 2.0.0)\n",
    "\tq3:# third quartile resampling, selects the third quartile value of all non-NODATA contributing pixels. (GDAL >= 2.0.0)\"\"\"\n",
    "\n",
    "import subprocess as subprocess\n",
    "import os as os\n",
    "\n",
    "def REPROJECTING_RESAMPLING(Name_Input, Path_Input, Name_Output, Path_Output, Coord_DEM_UL, Coord_DEM_LR, CellSize_X, CellSize_Y, Projection, resampling_method):\n",
    "\n",
    "\tProjwin = PROJWINDOW(Coord_DEM_UL, Coord_DEM_LR)\n",
    "\n",
    "\tprint('\\n STARTING REPROJECTING_RESAMPLING: ' + Name_Output)\n",
    "\n",
    "\tDosCommand = \"gdalwarp -overwrite -of gtiff -t_srs \" + Projection + \" -te \" + Projwin + \" -tr \" + str(CellSize_X) + ' ' + str(CellSize_Y) + \" -tap -r \" + resampling_method + \" \" + Path_Input + '/' + Name_Input + ' ' + Path_Output + '/' + Name_Output\n",
    "\n",
    "\tprint(\" \")\n",
    "\tprint(DosCommand)\n",
    "\tprint(\" \")\n",
    "\n",
    "\tsubprocess.check_output(DosCommand, shell=True).decode()\n",
    "\n",
    "\tprint('\\n SUCESSFULL REPROJECTING_RESAMPLING: ' + Name_Output)\n"
   ]
  },
  {
   "cell_type": "markdown",
   "metadata": {},
   "source": [
    "### TOOLS: Bounding boxes"
   ]
  },
  {
   "cell_type": "code",
   "execution_count": 4,
   "metadata": {},
   "outputs": [],
   "source": [
    "def BOUNDINGBOX(Coord_TopLeft, Coord_BottomRight):\n",
    "\t# Coord_TopLeft     = [Coord_Y_Top, Coord_X_Left]\n",
    "\t# Coord_BottomRight = [Coord_Y_Bottom, Coord_X_Right]\n",
    "\n",
    "\tCoord_X_Left   = Coord_TopLeft[1]\n",
    "\tCoord_Y_Bottom = Coord_BottomRight[0]\n",
    "\tCoord_X_Right  = Coord_BottomRight[1]\n",
    "\tCoord_Y_Top    = Coord_TopLeft[0]\n",
    "\n",
    "\tBoundingBox = [Coord_X_Left, Coord_Y_Bottom, Coord_X_Right, Coord_Y_Top]\n",
    "\n",
    "\treturn BoundingBox\n"
   ]
  },
  {
   "cell_type": "markdown",
   "metadata": {},
   "source": [
    "## RASTERIO"
   ]
  },
  {
   "cell_type": "markdown",
   "metadata": {},
   "source": [
    "### TOOLS: info"
   ]
  },
  {
   "cell_type": "code",
   "execution_count": 5,
   "metadata": {},
   "outputs": [],
   "source": [
    "import rasterio\n",
    "\n",
    "def INFORMATION(Path_Input, Verbose=True):\n",
    "\n",
    "\tRasterio = rasterio.open(Path_Input)\n",
    "\tDimensions   = Rasterio.transform\n",
    "\n",
    "\tCellSize_X   = Dimensions[0]\n",
    "\tCellSize_Y   = Dimensions[4]\n",
    "\tN_Width      = Rasterio.width\n",
    "\tN_Hight      = Rasterio.height\n",
    "\tCRS          = Rasterio.crs\n",
    "\tCoord_X_Left   = Rasterio.bounds[0]\n",
    "\tCoord_X_Right  = Rasterio.bounds[2]\n",
    "\tCoord_Y_Top    = Rasterio.bounds[3]\n",
    "\tCoord_Y_Bottom = Rasterio.bounds[1]\n",
    "\n",
    "\tCoord_TopLeft     = [Coord_Y_Top, Coord_X_Left]\n",
    "\tCoord_BottomRight = [Coord_Y_Bottom, Coord_X_Right]\n",
    "\n",
    "\tif Verbose:\n",
    "\t\tprint(\"Cell size_X=\", CellSize_X )\n",
    "\t\tprint(\"Cell size_Y=\", CellSize_Y )\n",
    "\t\tprint(\"DEM width= \" , N_Width) \n",
    "\t\tprint(\"DEM height= \", N_Hight)\n",
    "\t\tprint(\"Coordinate Reference System CRS=\" , CRS)\n",
    "\t\tprint(\"Bounds= \", Rasterio.bounds)\n",
    "\t\tprint(\"Bound_Left= \", Coord_X_Left ,\" ,Bound_Right= \", Coord_X_Right ,\" ,Bound_Top= \", Coord_Y_Top ,\" ,Bound_Botton= \", Coord_Y_Bottom)\n",
    "\t\tprint(\"Coord_TopLeft= \", Coord_TopLeft)\n",
    "\t\tprint(\"Coord_BottomRight= \", Coord_BottomRight)\n",
    "\n",
    "\treturn CellSize_X, CellSize_Y, Coord_BottomRight, Coord_TopLeft, Coord_X_Left, Coord_X_Right, Coord_Y_Bottom, Coord_Y_Top, CRS, N_Hight, N_Width, Rasterio\n"
   ]
  },
  {
   "cell_type": "markdown",
   "metadata": {},
   "source": [
    "## TOOLS PYFLWDIR"
   ]
  },
  {
   "cell_type": "markdown",
   "metadata": {},
   "source": [
    "### TOOLS: From DEM -> FlowDirection"
   ]
  },
  {
   "cell_type": "code",
   "execution_count": 6,
   "metadata": {},
   "outputs": [],
   "source": [
    "import rasterio\n",
    "import numpy as np\n",
    "import os as os\n",
    "import pyflwdir\n",
    "\n",
    "def DEM_2_FLOWDIRECTION(Name_Input, Path_Input, Name_Output, Path_Output):\n",
    "   \n",
    "\tPath = os.path.join(Path_Input, Name_Input)\n",
    "\n",
    "\t# Read elevation data using rasterio\n",
    "\twith rasterio.open(Path, \"r\") as src:\n",
    "\t\televtn = src.read(1)\n",
    "\t\tnodata = src.nodata\n",
    "\t\ttransform = src.transform\n",
    "\t\tcrs = src.crs\n",
    "\t\t#  extent = np.array(src.bounds)[[0, 2, 1, 3]]\n",
    "\t\tlatlon = src.crs.is_geographic\n",
    "\t\tprof = src.profile\n",
    "\n",
    "\t# returns FlwDirRaster object\n",
    "\tFlowDirection_Pyflwdir = pyflwdir.from_dem(data=elevtn, nodata=src.nodata, transform=transform, latlon=latlon, outlets=\"min\")\n",
    "\n",
    "\tFlowDirection_Array = FlowDirection_Pyflwdir.to_array(ftype=\"ldd\")\n",
    "\n",
    "\t# Write to tiff file\n",
    "\tPath = os.path.join(Path_Output, Name_Output)\n",
    "\tprof.update(dtype=FlowDirection_Array.dtype, nodata=False)\n",
    "\twith rasterio.open(Path, \"w\", **prof) as src:\n",
    "\t\tsrc.write(FlowDirection_Array, 1)\n",
    "\n",
    "\treturn FlowDirection_Array, FlowDirection_Pyflwdir\n"
   ]
  },
  {
   "cell_type": "markdown",
   "metadata": {},
   "source": [
    "### TOOLS: From DEM -> SLOPE"
   ]
  },
  {
   "cell_type": "code",
   "execution_count": 7,
   "metadata": {},
   "outputs": [],
   "source": [
    "import rasterio\n",
    "import pyflwdir\n",
    "import os as os\n",
    "\n",
    "def DEM_2_SLOPE(Name_Input_Dem, Path_Input_Dem, Name_Output_Slope, Path_Output_Slope):\n",
    "\t\n",
    "\tPath = os.path.join(Path_Input_Dem, Name_Input_Dem)\n",
    " \n",
    " \t# Read elevation data using rasterio\n",
    "\twith rasterio.open(Path, \"r\") as src:\n",
    "\t\televtn = src.read(1)\n",
    "\t\tnodata = src.nodata\n",
    "\t\ttransform = src.transform\n",
    "\t\tcrs = src.crs\n",
    "\t\t#  extent = np.array(src.bounds)[[0, 2, 1, 3]]\n",
    "\t\tlatlon = src.crs.is_geographic\n",
    "\t\tprof = src.profile\n",
    " \n",
    "\tSlope_Pyflwdir = pyflwdir.dem.slope(elevtn, nodata=src.nodata, latlon=latlon, transform=transform)\n",
    " \n",
    " \t# Write to tiff file\n",
    "\tPath = os.path.join(Path_Output_Slope, Name_Output_Slope)\n",
    " \n",
    "\tprof.update(dtype=Slope_Pyflwdir.dtype, nodata=src.nodata)\n",
    "\twith rasterio.open(Path, \"w\", **prof) as src:\n",
    "\t\tsrc.write(Slope_Pyflwdir, 1)\n",
    " \n",
    "\treturn Slope_Pyflwdir\n",
    "\n"
   ]
  },
  {
   "cell_type": "markdown",
   "metadata": {},
   "source": [
    "### TOOLS: From FlowDirection -> Streams"
   ]
  },
  {
   "cell_type": "code",
   "execution_count": 8,
   "metadata": {},
   "outputs": [],
   "source": [
    "import rasterio\n",
    "import pyflwdir\n",
    "import numpy as np\n",
    "import os as os\n",
    "\n",
    "def FLOWDIRECTION_2_STREAMS(Name_Input_Dem, Path_Input_Dem, Name_Output_Stream, Name_Output_StreamOrder, Name_Output_StreamWidth, Name_Output_StreamSlope, Path_Output_Stream, FlowDirection_Pyflwdir, Slope_Pyflwdir, StreamOrder=4, StreamWidth=1.0, Type='strahler'):\n",
    "   \n",
    "   #  Type= \"strahler\" or \"classic\"\n",
    "   \n",
    "   Path_Dem = os.path.join(Path_Input_Dem, Name_Input_Dem)\n",
    "   \n",
    "   # Read elevation data using rasterio   \n",
    "   with rasterio.open(Path_Dem, \"r\") as src:\n",
    "      elevtn = src.read(1)\n",
    "      nodata = src.nodata\n",
    "      transform = src.transform\n",
    "      crs = src.crs\n",
    "      # extent = np.array(src.bounds)[[0, 2, 1, 3]]\n",
    "      latlon = src.crs.is_geographic\n",
    "      prof = src.profile\n",
    "   \n",
    "   # === STREAM ORDERS ====\n",
    "   Streams_StreamOrder = FlowDirection_Pyflwdir.stream_order(type=Type)\n",
    "   \n",
    "   # Masking data were Stream order > 1\n",
    "   Nx,Ny = np.shape(Streams_StreamOrder)\n",
    "   Streams_StreamOrder2 = np.ma.empty(shape=(Nx, Ny))\n",
    "   for iX in range(Nx):\n",
    "      for iY in range(Ny):\n",
    "         if Streams_StreamOrder[iX,iY] > 1:\n",
    "            Streams_StreamOrder2[iX,iY] = Streams_StreamOrder[iX,iY]\n",
    "   \n",
    "   Path = os.path.join(Path_Output_Stream, Name_Output_StreamOrder)\n",
    "   \n",
    "   prof.update(dtype=Streams_StreamOrder.dtype, nodata=False)\n",
    "   with rasterio.open(Path, \"w\", **prof) as src:\n",
    "      src.write(Streams_StreamOrder2, 1)\n",
    "      \n",
    "   # === STREAMS TRUE ===\n",
    "   Path = os.path.join(Path_Output_Stream, Name_Output_Stream)\n",
    "   \n",
    "   Streams = np.greater(Streams_StreamOrder, StreamOrder)\n",
    "   \n",
    "   prof.update(dtype=Streams_StreamOrder.dtype, nodata=False)\n",
    "   with rasterio.open(Path, \"w\", **prof) as src:\n",
    "      src.write(Streams, 1)\n",
    "   \n",
    "   # === STREAMS WIDTH ===\n",
    "   Path = os.path.join(Path_Output_Stream, Name_Output_StreamWidth)\n",
    "     \n",
    "   Streams_Width = Streams * StreamWidth\n",
    "   \n",
    "   prof.update(dtype=Streams_StreamOrder.dtype, nodata=False)\n",
    "   with rasterio.open(Path, \"w\", **prof) as src:\n",
    "      src.write(Streams_Width, 1)\n",
    "      \n",
    "\t# === STREAM SLOPE ====\n",
    "   Path = os.path.join(Path_Output_Stream, Name_Output_StreamSlope)\n",
    "   \n",
    "   Nx,Ny = np.shape(Streams)\n",
    "   Streams_Slope = np.ma.empty(shape=(Nx, Ny))\n",
    "   \n",
    "   # Masking onl data were we have slope\n",
    "   for iX in range(Nx):\n",
    "      for iY in range(Ny):\n",
    "         if Streams[iX,iY]==True:\n",
    "            Streams_Slope[iX,iY] = Slope_Pyflwdir[iX,iY]\n",
    "\n",
    "   \n",
    "   prof.update(dtype=Slope_Pyflwdir.dtype, nodata=False)\n",
    "   with rasterio.open(Path, \"w\", **prof) as src:\n",
    "      src.write(Streams_Slope, 1) \n",
    "      \n",
    "   return Streams, Streams_Slope, Streams_StreamOrder, Streams_Width\n",
    "   "
   ]
  },
  {
   "cell_type": "markdown",
   "metadata": {},
   "source": [
    "### TOOLS FlowDirections -> Catchements"
   ]
  },
  {
   "cell_type": "code",
   "execution_count": 9,
   "metadata": {},
   "outputs": [],
   "source": [
    "# import geopandas as gpd\n",
    "import numpy as np\n",
    "import rasterio\n",
    "import pyflwdir\n",
    "# import python_utils\n",
    "import os as os\n",
    "\n",
    "def FLOWDIRECTION_2_CATCHEMENT(FlowDirection_Pyflwdir, Name_Input_Dem, Path_Input_Dem, Name_Output, Path_Output, Option_Catchement=\"Subbasins\"):\n",
    "\n",
    "   Path_Dem = os.path.join(Path_Input_Dem, Name_Input_Dem)\n",
    "\n",
    "   \n",
    "   # Read elevation data using rasterio   \n",
    "   with rasterio.open(Path_Dem, \"r\") as src:\n",
    "      elevtn = src.read(1)\n",
    "      nodata = src.nodata\n",
    "      transform = src.transform\n",
    "      crs = src.crs\n",
    "      # extent = np.array(src.bounds)[[0, 2, 1, 3]]\n",
    "      latlon = src.crs.is_geographic\n",
    "      prof = src.profile\n",
    "   \n",
    "   # Delinating catchements\n",
    "   if  Option_Catchement == \"Subbasins\":\n",
    "      Subbassins, Idxs_out = FlowDirection_Pyflwdir.subbasins_streamorder(min_sto=7, mask=None)\n",
    "   \n",
    "   Path = os.path.join(Path_Output, Name_Output)\n",
    "   \n",
    "   prof.update(dtype=Subbassins.dtype, nodata=False)\n",
    "   with rasterio.open(Path, \"w\", **prof) as src:\n",
    "      src.write(Subbassins, 1) \n",
    "   \n",
    "   return Subbassins, Idxs_out\n"
   ]
  },
  {
   "cell_type": "markdown",
   "metadata": {},
   "source": [
    "# ========================================================================================================="
   ]
  },
  {
   "cell_type": "markdown",
   "metadata": {},
   "source": [
    "# DATA\n"
   ]
  },
  {
   "cell_type": "code",
   "execution_count": 10,
   "metadata": {},
   "outputs": [],
   "source": [
    "import os\n",
    "\n",
    "Projection_NZ        = 'EPSG:2193'  # This is the default projection NZGD2000 / New Zealand Transverse Mercator 2000\n",
    "Input_Static_Root    = \"D:\\MAIN\\MODELS\\WFLOW\\DATA\\SouthLand\\Input\\Static\"\n",
    "Dem_Name_Tif         = \"DEM.tif\"\n",
    "\n",
    "Root_Output_Tiff     = \"D:\\MAIN\\MODELS\\WFLOW\\DATA\\SouthLand\\OutputTiff\"\n",
    "Root_Output_Csv      = \"D:\\MAIN\\MODELS\\WFLOW\\DATA\\SouthLand\\OutputCsv\"\n",
    "\n",
    "Coord_DEM_UperLeft   = [4906000, 1245910]\n",
    "Coord_DEM_LowerRight = [4849880, 1310500]\n",
    "\n",
    "CellSize_X = 8.0\n",
    "CellSize_Y = 8.0\n",
    "\n",
    "StreamWidth = 1.0\n",
    "\n",
    "Path_Input_Dem = os.path.join(Input_Static_Root, Dem_Name_Tif)\n",
    "\n",
    "Option_Subcatchement_OR_Catchement = 'Subcatchement' # 'Subcatchement' 'Catchement'\n",
    "\n",
    "StreamOrder = 4\n"
   ]
  },
  {
   "cell_type": "markdown",
   "metadata": {},
   "source": [
    "## DEM TASKS"
   ]
  },
  {
   "cell_type": "code",
   "execution_count": 11,
   "metadata": {},
   "outputs": [
    {
     "ename": "RasterioIOError",
     "evalue": "D:\\MAIN\\MODELS\\WFLOW\\DATA\\SouthLand\\Input\\Static\\DEM.tif: No such file or directory",
     "output_type": "error",
     "traceback": [
      "\u001b[31m---------------------------------------------------------------------------\u001b[39m",
      "\u001b[31mCPLE_OpenFailedError\u001b[39m                      Traceback (most recent call last)",
      "\u001b[36mFile \u001b[39m\u001b[32mrasterio\\\\_base.pyx:310\u001b[39m, in \u001b[36mrasterio._base.DatasetBase.__init__\u001b[39m\u001b[34m()\u001b[39m\n",
      "\u001b[36mFile \u001b[39m\u001b[32mrasterio\\\\_base.pyx:221\u001b[39m, in \u001b[36mrasterio._base.open_dataset\u001b[39m\u001b[34m()\u001b[39m\n",
      "\u001b[36mFile \u001b[39m\u001b[32mrasterio\\\\_err.pyx:359\u001b[39m, in \u001b[36mrasterio._err.exc_wrap_pointer\u001b[39m\u001b[34m()\u001b[39m\n",
      "\u001b[31mCPLE_OpenFailedError\u001b[39m: D:\\MAIN\\MODELS\\WFLOW\\DATA\\SouthLand\\Input\\Static\\DEM.tif: No such file or directory",
      "\nDuring handling of the above exception, another exception occurred:\n",
      "\u001b[31mRasterioIOError\u001b[39m                           Traceback (most recent call last)",
      "\u001b[36mCell\u001b[39m\u001b[36m \u001b[39m\u001b[32mIn[11]\u001b[39m\u001b[32m, line 3\u001b[39m\n\u001b[32m      1\u001b[39m \u001b[38;5;66;03m#DEM resampling\u001b[39;00m\n\u001b[32m----> \u001b[39m\u001b[32m3\u001b[39m CellSize_X, CellSize_Y, Coord_BottomRight, Coord_TopLeft, Coord_X_Left, Coord_X_Right, Coord_Y_Bottom, Coord_Y_Top, CRS, N_Hight, N_Width, Rasterio_Dem = \u001b[43mINFORMATION\u001b[49m\u001b[43m(\u001b[49m\u001b[43mPath_Input_Dem\u001b[49m\u001b[43m,\u001b[49m\u001b[43m \u001b[49m\u001b[43mVerbose\u001b[49m\u001b[43m=\u001b[49m\u001b[38;5;28;43;01mFalse\u001b[39;49;00m\u001b[43m)\u001b[49m\n\u001b[32m      5\u001b[39m REPROJECTING_RESAMPLING(\u001b[33m\"\u001b[39m\u001b[33mDEM.tif\u001b[39m\u001b[33m\"\u001b[39m, Input_Static_Root, \u001b[33m\"\u001b[39m\u001b[33mDEM_Resampled.tif\u001b[39m\u001b[33m\"\u001b[39m, Root_Output_Tiff, Coord_DEM_UperLeft, Coord_DEM_LowerRight, CellSize_X, CellSize_Y, Projection_NZ, \u001b[33m\"\u001b[39m\u001b[33maverage\u001b[39m\u001b[33m\"\u001b[39m)\n\u001b[32m      7\u001b[39m Path_DemResampled = os.path.join(Root_Output_Tiff, \u001b[33m\"\u001b[39m\u001b[33mDEM_Resampled.tif\u001b[39m\u001b[33m\"\u001b[39m)\n",
      "\u001b[36mCell\u001b[39m\u001b[36m \u001b[39m\u001b[32mIn[5]\u001b[39m\u001b[32m, line 5\u001b[39m, in \u001b[36mINFORMATION\u001b[39m\u001b[34m(Path_Input, Verbose)\u001b[39m\n\u001b[32m      3\u001b[39m \u001b[38;5;28;01mdef\u001b[39;00m\u001b[38;5;250m \u001b[39m\u001b[34mINFORMATION\u001b[39m(Path_Input, Verbose=\u001b[38;5;28;01mTrue\u001b[39;00m):\n\u001b[32m----> \u001b[39m\u001b[32m5\u001b[39m \tRasterio = \u001b[43mrasterio\u001b[49m\u001b[43m.\u001b[49m\u001b[43mopen\u001b[49m\u001b[43m(\u001b[49m\u001b[43mPath_Input\u001b[49m\u001b[43m)\u001b[49m\n\u001b[32m      6\u001b[39m \tDimensions   = Rasterio.transform\n\u001b[32m      8\u001b[39m \tCellSize_X   = Dimensions[\u001b[32m0\u001b[39m]\n",
      "\u001b[36mFile \u001b[39m\u001b[32mc:\\Users\\jpollacco.local\\AppData\\Local\\miniforge3\\envs\\hydromt-wflow\\Lib\\site-packages\\rasterio\\env.py:463\u001b[39m, in \u001b[36mensure_env_with_credentials.<locals>.wrapper\u001b[39m\u001b[34m(*args, **kwds)\u001b[39m\n\u001b[32m    460\u001b[39m     session = DummySession()\n\u001b[32m    462\u001b[39m \u001b[38;5;28;01mwith\u001b[39;00m env_ctor(session=session):\n\u001b[32m--> \u001b[39m\u001b[32m463\u001b[39m     \u001b[38;5;28;01mreturn\u001b[39;00m \u001b[43mf\u001b[49m\u001b[43m(\u001b[49m\u001b[43m*\u001b[49m\u001b[43margs\u001b[49m\u001b[43m,\u001b[49m\u001b[43m \u001b[49m\u001b[43m*\u001b[49m\u001b[43m*\u001b[49m\u001b[43mkwds\u001b[49m\u001b[43m)\u001b[49m\n",
      "\u001b[36mFile \u001b[39m\u001b[32mc:\\Users\\jpollacco.local\\AppData\\Local\\miniforge3\\envs\\hydromt-wflow\\Lib\\site-packages\\rasterio\\__init__.py:356\u001b[39m, in \u001b[36mopen\u001b[39m\u001b[34m(fp, mode, driver, width, height, count, crs, transform, dtype, nodata, sharing, opener, **kwargs)\u001b[39m\n\u001b[32m    353\u001b[39m     path = _parse_path(raw_dataset_path)\n\u001b[32m    355\u001b[39m \u001b[38;5;28;01mif\u001b[39;00m mode == \u001b[33m\"\u001b[39m\u001b[33mr\u001b[39m\u001b[33m\"\u001b[39m:\n\u001b[32m--> \u001b[39m\u001b[32m356\u001b[39m     dataset = \u001b[43mDatasetReader\u001b[49m\u001b[43m(\u001b[49m\u001b[43mpath\u001b[49m\u001b[43m,\u001b[49m\u001b[43m \u001b[49m\u001b[43mdriver\u001b[49m\u001b[43m=\u001b[49m\u001b[43mdriver\u001b[49m\u001b[43m,\u001b[49m\u001b[43m \u001b[49m\u001b[43msharing\u001b[49m\u001b[43m=\u001b[49m\u001b[43msharing\u001b[49m\u001b[43m,\u001b[49m\u001b[43m \u001b[49m\u001b[43m*\u001b[49m\u001b[43m*\u001b[49m\u001b[43mkwargs\u001b[49m\u001b[43m)\u001b[49m\n\u001b[32m    357\u001b[39m \u001b[38;5;28;01melif\u001b[39;00m mode == \u001b[33m\"\u001b[39m\u001b[33mr+\u001b[39m\u001b[33m\"\u001b[39m:\n\u001b[32m    358\u001b[39m     dataset = get_writer_for_path(path, driver=driver)(\n\u001b[32m    359\u001b[39m         path, mode, driver=driver, sharing=sharing, **kwargs\n\u001b[32m    360\u001b[39m     )\n",
      "\u001b[36mFile \u001b[39m\u001b[32mrasterio\\\\_base.pyx:312\u001b[39m, in \u001b[36mrasterio._base.DatasetBase.__init__\u001b[39m\u001b[34m()\u001b[39m\n",
      "\u001b[31mRasterioIOError\u001b[39m: D:\\MAIN\\MODELS\\WFLOW\\DATA\\SouthLand\\Input\\Static\\DEM.tif: No such file or directory"
     ]
    }
   ],
   "source": [
    "#DEM resampling\n",
    "\n",
    "CellSize_X, CellSize_Y, Coord_BottomRight, Coord_TopLeft, Coord_X_Left, Coord_X_Right, Coord_Y_Bottom, Coord_Y_Top, CRS, N_Hight, N_Width, Rasterio_Dem = INFORMATION(Path_Input_Dem, Verbose=False)\n",
    "\n",
    "REPROJECTING_RESAMPLING(\"DEM.tif\", Input_Static_Root, \"DEM_Resampled.tif\", Root_Output_Tiff, Coord_DEM_UperLeft, Coord_DEM_LowerRight, CellSize_X, CellSize_Y, Projection_NZ, \"average\")\n",
    "\n",
    "Path_DemResampled = os.path.join(Root_Output_Tiff, \"DEM_Resampled.tif\")\n",
    "\n",
    "CellSize_X, CellSize_Y, Coord_BottomRight, Coord_TopLeft, Coord_X_Left, Coord_X_Right, Coord_Y_Bottom, Coord_Y_Top, CRS, N_Hight, N_Width, Rasterio_Dem = INFORMATION(Path_DemResampled)\n"
   ]
  },
  {
   "cell_type": "markdown",
   "metadata": {},
   "source": [
    "### Flow directions"
   ]
  },
  {
   "cell_type": "code",
   "execution_count": null,
   "metadata": {},
   "outputs": [],
   "source": [
    "FlowDirection_Array, FlowDirection_Pyflwdir = DEM_2_FLOWDIRECTION(\"DEM_Resampled.tif\", Root_Output_Tiff, \"FlowDirection.tiff\", Root_Output_Tiff)\n"
   ]
  },
  {
   "cell_type": "markdown",
   "metadata": {},
   "source": [
    "### Slope "
   ]
  },
  {
   "cell_type": "code",
   "execution_count": null,
   "metadata": {},
   "outputs": [],
   "source": [
    "Slope_Pyflwdir = DEM_2_SLOPE(\"DEM_Resampled.tif\", Root_Output_Tiff, \"Slope.tiff\", Root_Output_Tiff)\n"
   ]
  },
  {
   "cell_type": "markdown",
   "metadata": {},
   "source": [
    "### Streams"
   ]
  },
  {
   "cell_type": "code",
   "execution_count": null,
   "metadata": {},
   "outputs": [],
   "source": [
    "Streams, Streams_Slope, Streams_StreamOrder, Streams_Width = FLOWDIRECTION_2_STREAMS(\"DEM_Resampled.tif\", Root_Output_Tiff, \"Streams.tiff\", \"StreamsOrder.tiff\", \"StreamsWidth.tiff\", \"StreamSlope.tiff\", Root_Output_Tiff, FlowDirection_Pyflwdir, Slope_Pyflwdir, StreamOrder, StreamWidth, Type='strahler')\n"
   ]
  },
  {
   "cell_type": "markdown",
   "metadata": {},
   "source": [
    "### Catchement boundary"
   ]
  },
  {
   "cell_type": "code",
   "execution_count": null,
   "metadata": {},
   "outputs": [],
   "source": [
    "Subbassins, Idxs_out = FLOWDIRECTION_2_CATCHEMENT(FlowDirection_Pyflwdir, \"DEM_Resampled.tif\", Root_Output_Tiff, \"Catchment.tiff\", Root_Output_Tiff, Option_Catchement=\"Subbasins\")\n"
   ]
  },
  {
   "cell_type": "markdown",
   "metadata": {},
   "source": [
    "#### DEM data: *wflow_dem*\n"
   ]
  },
  {
   "cell_type": "markdown",
   "metadata": {},
   "source": [
    "### River network"
   ]
  },
  {
   "cell_type": "markdown",
   "metadata": {},
   "source": [
    "#### Gauges stations: *wflow_gauges_grdc*"
   ]
  },
  {
   "cell_type": "markdown",
   "metadata": {},
   "source": [
    "#### ldd maps: *wflow_ldd*"
   ]
  },
  {
   "cell_type": "markdown",
   "metadata": {},
   "source": [
    "### Looking for pits"
   ]
  },
  {
   "cell_type": "markdown",
   "metadata": {},
   "source": [
    "#### Subcatchement: *wflow_subcatch*"
   ]
  },
  {
   "cell_type": "markdown",
   "metadata": {},
   "source": [
    "### Reduce extend based on catchment\n"
   ]
  },
  {
   "cell_type": "code",
   "execution_count": null,
   "metadata": {},
   "outputs": [],
   "source": [
    "\n",
    "Coord_DEM_UperLeft, Coord_DEM_LowerRight, Cell_X, Cell_Y = MAP_EXTENT(CatchementMap, Cell_Size)\n"
   ]
  },
  {
   "cell_type": "markdown",
   "metadata": {},
   "source": [
    "### River network"
   ]
  },
  {
   "cell_type": "markdown",
   "metadata": {},
   "source": [
    "##### Slope: *Slope*"
   ]
  },
  {
   "cell_type": "markdown",
   "metadata": {},
   "source": [
    "### MAPS derived from rivers"
   ]
  },
  {
   "cell_type": "markdown",
   "metadata": {},
   "source": [
    "#### River location: *wflow_river*"
   ]
  },
  {
   "cell_type": "markdown",
   "metadata": {},
   "source": [
    "#### River length: *wflow_riverlength*"
   ]
  },
  {
   "cell_type": "markdown",
   "metadata": {},
   "source": [
    "#### River width: *wflow_riverwidth*\n"
   ]
  },
  {
   "cell_type": "markdown",
   "metadata": {},
   "source": [
    "#### River slope: *RiverSlope*"
   ]
  },
  {
   "cell_type": "markdown",
   "metadata": {},
   "source": [
    "## OUTPUT CSV"
   ]
  },
  {
   "cell_type": "markdown",
   "metadata": {},
   "source": [
    "## NetCDF Static data"
   ]
  },
  {
   "cell_type": "markdown",
   "metadata": {},
   "source": [
    "## FORCING DATA"
   ]
  },
  {
   "cell_type": "markdown",
   "metadata": {},
   "source": []
  },
  {
   "cell_type": "markdown",
   "metadata": {},
   "source": [
    "### Precipitation\n"
   ]
  },
  {
   "cell_type": "markdown",
   "metadata": {},
   "source": [
    "#### Potential evapotranspiration"
   ]
  },
  {
   "cell_type": "code",
   "execution_count": null,
   "metadata": {},
   "outputs": [],
   "source": [
    "# !mamba create -n WflowDiscretisation\n",
    "# !conda activate WflowDiscretisation\n",
    "# !conda install rasterio\n",
    "\n",
    "\n",
    "\n",
    "\n",
    "\n",
    " \n"
   ]
  },
  {
   "cell_type": "code",
   "execution_count": null,
   "metadata": {},
   "outputs": [],
   "source": []
  }
 ],
 "metadata": {
  "kernelspec": {
   "display_name": "hydromt-wflow",
   "language": "python",
   "name": "python3"
  },
  "language_info": {
   "codemirror_mode": {
    "name": "ipython",
    "version": 3
   },
   "file_extension": ".py",
   "mimetype": "text/x-python",
   "name": "python",
   "nbconvert_exporter": "python",
   "pygments_lexer": "ipython3",
   "version": "3.11.11"
  }
 },
 "nbformat": 4,
 "nbformat_minor": 2
}
